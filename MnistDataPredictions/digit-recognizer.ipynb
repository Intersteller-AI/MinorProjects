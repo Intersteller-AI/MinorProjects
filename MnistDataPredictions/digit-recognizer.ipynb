{
 "cells": [
  {
   "cell_type": "code",
   "execution_count": 1,
   "id": "4a0ab76e",
   "metadata": {
    "execution": {
     "iopub.execute_input": "2022-11-17T00:31:07.145888Z",
     "iopub.status.busy": "2022-11-17T00:31:07.145441Z",
     "iopub.status.idle": "2022-11-17T00:31:13.385397Z",
     "shell.execute_reply": "2022-11-17T00:31:13.382404Z"
    },
    "papermill": {
     "duration": 6.25679,
     "end_time": "2022-11-17T00:31:13.388679",
     "exception": false,
     "start_time": "2022-11-17T00:31:07.131889",
     "status": "completed"
    },
    "tags": []
   },
   "outputs": [],
   "source": [
    "import pandas as pd\n",
    "import numpy as np\n",
    "import tensorflow as tf\n",
    "import glob\n",
    "from tensorflow import keras\n",
    "from keras.datasets import mnist\n",
    "import matplotlib.pyplot as plt\n",
    "from keras.utils.np_utils import to_categorical\n",
    "from sklearn.model_selection import train_test_split\n",
    "from tensorflow.keras.optimizers import Adam\n",
    "from sklearn.metrics import classification_report, confusion_matrix\n",
    "import seaborn as sns\n",
    "from keras_preprocessing.image import array_to_img"
   ]
  },
  {
   "cell_type": "markdown",
   "id": "9d0f5afb",
   "metadata": {
    "papermill": {
     "duration": 0.013463,
     "end_time": "2022-11-17T00:31:13.414374",
     "exception": false,
     "start_time": "2022-11-17T00:31:13.400911",
     "status": "completed"
    },
    "tags": []
   },
   "source": [
    "# Data Preparation"
   ]
  },
  {
   "cell_type": "markdown",
   "id": "6ae880b8",
   "metadata": {},
   "source": [
    "#### ***You can download the data from here.***\n",
    "<https://www.kaggle.com/competitions/digit-recognizer/data>"
   ]
  },
  {
   "cell_type": "markdown",
   "id": "b3bb486d",
   "metadata": {
    "papermill": {
     "duration": 0.011249,
     "end_time": "2022-11-17T00:31:13.437210",
     "exception": false,
     "start_time": "2022-11-17T00:31:13.425961",
     "status": "completed"
    },
    "tags": []
   },
   "source": [
    "### Load the Data"
   ]
  },
  {
   "cell_type": "code",
   "execution_count": 6,
   "id": "4d856375",
   "metadata": {
    "execution": {
     "iopub.execute_input": "2022-11-17T00:31:13.463616Z",
     "iopub.status.busy": "2022-11-17T00:31:13.462921Z",
     "iopub.status.idle": "2022-11-17T00:31:13.469784Z",
     "shell.execute_reply": "2022-11-17T00:31:13.468875Z"
    },
    "papermill": {
     "duration": 0.025089,
     "end_time": "2022-11-17T00:31:13.475726",
     "exception": false,
     "start_time": "2022-11-17T00:31:13.450637",
     "status": "completed"
    },
    "tags": []
   },
   "outputs": [
    {
     "name": "stdout",
     "output_type": "stream",
     "text": [
      "dataset\\test.csv\n",
      "dataset\\train.csv\n"
     ]
    }
   ],
   "source": [
    "print(*glob.glob('dataset/*'), sep='\\n')"
   ]
  },
  {
   "cell_type": "code",
   "execution_count": 8,
   "id": "f862f971",
   "metadata": {
    "execution": {
     "iopub.execute_input": "2022-11-17T00:31:13.499570Z",
     "iopub.status.busy": "2022-11-17T00:31:13.499170Z",
     "iopub.status.idle": "2022-11-17T00:31:16.513563Z",
     "shell.execute_reply": "2022-11-17T00:31:16.512605Z"
    },
    "papermill": {
     "duration": 3.029792,
     "end_time": "2022-11-17T00:31:16.515719",
     "exception": false,
     "start_time": "2022-11-17T00:31:13.485927",
     "status": "completed"
    },
    "tags": []
   },
   "outputs": [
    {
     "data": {
      "text/html": [
       "<div>\n",
       "<style scoped>\n",
       "    .dataframe tbody tr th:only-of-type {\n",
       "        vertical-align: middle;\n",
       "    }\n",
       "\n",
       "    .dataframe tbody tr th {\n",
       "        vertical-align: top;\n",
       "    }\n",
       "\n",
       "    .dataframe thead th {\n",
       "        text-align: right;\n",
       "    }\n",
       "</style>\n",
       "<table border=\"1\" class=\"dataframe\">\n",
       "  <thead>\n",
       "    <tr style=\"text-align: right;\">\n",
       "      <th></th>\n",
       "      <th>label</th>\n",
       "      <th>pixel0</th>\n",
       "      <th>pixel1</th>\n",
       "      <th>pixel2</th>\n",
       "      <th>pixel3</th>\n",
       "      <th>pixel4</th>\n",
       "      <th>pixel5</th>\n",
       "      <th>pixel6</th>\n",
       "      <th>pixel7</th>\n",
       "      <th>pixel8</th>\n",
       "      <th>...</th>\n",
       "      <th>pixel774</th>\n",
       "      <th>pixel775</th>\n",
       "      <th>pixel776</th>\n",
       "      <th>pixel777</th>\n",
       "      <th>pixel778</th>\n",
       "      <th>pixel779</th>\n",
       "      <th>pixel780</th>\n",
       "      <th>pixel781</th>\n",
       "      <th>pixel782</th>\n",
       "      <th>pixel783</th>\n",
       "    </tr>\n",
       "  </thead>\n",
       "  <tbody>\n",
       "    <tr>\n",
       "      <th>0</th>\n",
       "      <td>1</td>\n",
       "      <td>0</td>\n",
       "      <td>0</td>\n",
       "      <td>0</td>\n",
       "      <td>0</td>\n",
       "      <td>0</td>\n",
       "      <td>0</td>\n",
       "      <td>0</td>\n",
       "      <td>0</td>\n",
       "      <td>0</td>\n",
       "      <td>...</td>\n",
       "      <td>0</td>\n",
       "      <td>0</td>\n",
       "      <td>0</td>\n",
       "      <td>0</td>\n",
       "      <td>0</td>\n",
       "      <td>0</td>\n",
       "      <td>0</td>\n",
       "      <td>0</td>\n",
       "      <td>0</td>\n",
       "      <td>0</td>\n",
       "    </tr>\n",
       "    <tr>\n",
       "      <th>1</th>\n",
       "      <td>0</td>\n",
       "      <td>0</td>\n",
       "      <td>0</td>\n",
       "      <td>0</td>\n",
       "      <td>0</td>\n",
       "      <td>0</td>\n",
       "      <td>0</td>\n",
       "      <td>0</td>\n",
       "      <td>0</td>\n",
       "      <td>0</td>\n",
       "      <td>...</td>\n",
       "      <td>0</td>\n",
       "      <td>0</td>\n",
       "      <td>0</td>\n",
       "      <td>0</td>\n",
       "      <td>0</td>\n",
       "      <td>0</td>\n",
       "      <td>0</td>\n",
       "      <td>0</td>\n",
       "      <td>0</td>\n",
       "      <td>0</td>\n",
       "    </tr>\n",
       "    <tr>\n",
       "      <th>2</th>\n",
       "      <td>1</td>\n",
       "      <td>0</td>\n",
       "      <td>0</td>\n",
       "      <td>0</td>\n",
       "      <td>0</td>\n",
       "      <td>0</td>\n",
       "      <td>0</td>\n",
       "      <td>0</td>\n",
       "      <td>0</td>\n",
       "      <td>0</td>\n",
       "      <td>...</td>\n",
       "      <td>0</td>\n",
       "      <td>0</td>\n",
       "      <td>0</td>\n",
       "      <td>0</td>\n",
       "      <td>0</td>\n",
       "      <td>0</td>\n",
       "      <td>0</td>\n",
       "      <td>0</td>\n",
       "      <td>0</td>\n",
       "      <td>0</td>\n",
       "    </tr>\n",
       "    <tr>\n",
       "      <th>3</th>\n",
       "      <td>4</td>\n",
       "      <td>0</td>\n",
       "      <td>0</td>\n",
       "      <td>0</td>\n",
       "      <td>0</td>\n",
       "      <td>0</td>\n",
       "      <td>0</td>\n",
       "      <td>0</td>\n",
       "      <td>0</td>\n",
       "      <td>0</td>\n",
       "      <td>...</td>\n",
       "      <td>0</td>\n",
       "      <td>0</td>\n",
       "      <td>0</td>\n",
       "      <td>0</td>\n",
       "      <td>0</td>\n",
       "      <td>0</td>\n",
       "      <td>0</td>\n",
       "      <td>0</td>\n",
       "      <td>0</td>\n",
       "      <td>0</td>\n",
       "    </tr>\n",
       "    <tr>\n",
       "      <th>4</th>\n",
       "      <td>0</td>\n",
       "      <td>0</td>\n",
       "      <td>0</td>\n",
       "      <td>0</td>\n",
       "      <td>0</td>\n",
       "      <td>0</td>\n",
       "      <td>0</td>\n",
       "      <td>0</td>\n",
       "      <td>0</td>\n",
       "      <td>0</td>\n",
       "      <td>...</td>\n",
       "      <td>0</td>\n",
       "      <td>0</td>\n",
       "      <td>0</td>\n",
       "      <td>0</td>\n",
       "      <td>0</td>\n",
       "      <td>0</td>\n",
       "      <td>0</td>\n",
       "      <td>0</td>\n",
       "      <td>0</td>\n",
       "      <td>0</td>\n",
       "    </tr>\n",
       "  </tbody>\n",
       "</table>\n",
       "<p>5 rows × 785 columns</p>\n",
       "</div>"
      ],
      "text/plain": [
       "   label  pixel0  pixel1  pixel2  pixel3  pixel4  pixel5  pixel6  pixel7  \\\n",
       "0      1       0       0       0       0       0       0       0       0   \n",
       "1      0       0       0       0       0       0       0       0       0   \n",
       "2      1       0       0       0       0       0       0       0       0   \n",
       "3      4       0       0       0       0       0       0       0       0   \n",
       "4      0       0       0       0       0       0       0       0       0   \n",
       "\n",
       "   pixel8  ...  pixel774  pixel775  pixel776  pixel777  pixel778  pixel779  \\\n",
       "0       0  ...         0         0         0         0         0         0   \n",
       "1       0  ...         0         0         0         0         0         0   \n",
       "2       0  ...         0         0         0         0         0         0   \n",
       "3       0  ...         0         0         0         0         0         0   \n",
       "4       0  ...         0         0         0         0         0         0   \n",
       "\n",
       "   pixel780  pixel781  pixel782  pixel783  \n",
       "0         0         0         0         0  \n",
       "1         0         0         0         0  \n",
       "2         0         0         0         0  \n",
       "3         0         0         0         0  \n",
       "4         0         0         0         0  \n",
       "\n",
       "[5 rows x 785 columns]"
      ]
     },
     "execution_count": 8,
     "metadata": {},
     "output_type": "execute_result"
    }
   ],
   "source": [
    "df_train = pd.read_csv('dataset/train.csv')\n",
    "df_train.head()\n"
   ]
  },
  {
   "cell_type": "code",
   "execution_count": 9,
   "id": "2324d473",
   "metadata": {
    "execution": {
     "iopub.execute_input": "2022-11-17T00:31:16.533814Z",
     "iopub.status.busy": "2022-11-17T00:31:16.532417Z",
     "iopub.status.idle": "2022-11-17T00:31:16.539819Z",
     "shell.execute_reply": "2022-11-17T00:31:16.538969Z"
    },
    "papermill": {
     "duration": 0.018113,
     "end_time": "2022-11-17T00:31:16.541772",
     "exception": false,
     "start_time": "2022-11-17T00:31:16.523659",
     "status": "completed"
    },
    "tags": []
   },
   "outputs": [
    {
     "data": {
      "text/plain": [
       "(42000, 785)"
      ]
     },
     "execution_count": 9,
     "metadata": {},
     "output_type": "execute_result"
    }
   ],
   "source": [
    "df_train.shape"
   ]
  },
  {
   "cell_type": "markdown",
   "id": "1e6ccac5",
   "metadata": {
    "papermill": {
     "duration": 0.00747,
     "end_time": "2022-11-17T00:31:16.556965",
     "exception": false,
     "start_time": "2022-11-17T00:31:16.549495",
     "status": "completed"
    },
    "tags": []
   },
   "source": [
    "### Create Feature and Target variable"
   ]
  },
  {
   "cell_type": "code",
   "execution_count": 10,
   "id": "cc181f53",
   "metadata": {
    "execution": {
     "iopub.execute_input": "2022-11-17T00:31:16.573791Z",
     "iopub.status.busy": "2022-11-17T00:31:16.573503Z",
     "iopub.status.idle": "2022-11-17T00:31:16.658063Z",
     "shell.execute_reply": "2022-11-17T00:31:16.657069Z"
    },
    "papermill": {
     "duration": 0.095854,
     "end_time": "2022-11-17T00:31:16.660499",
     "exception": false,
     "start_time": "2022-11-17T00:31:16.564645",
     "status": "completed"
    },
    "tags": []
   },
   "outputs": [],
   "source": [
    "y = df_train['label'].values\n",
    "X = df_train.drop('label', axis=1).values"
   ]
  },
  {
   "cell_type": "markdown",
   "id": "3b29c95b",
   "metadata": {
    "papermill": {
     "duration": 0.007621,
     "end_time": "2022-11-17T00:31:16.676226",
     "exception": false,
     "start_time": "2022-11-17T00:31:16.668605",
     "status": "completed"
    },
    "tags": []
   },
   "source": [
    "### Reshape the Data"
   ]
  },
  {
   "cell_type": "code",
   "execution_count": 6,
   "id": "1aa2c360",
   "metadata": {
    "execution": {
     "iopub.execute_input": "2022-11-17T00:31:16.692972Z",
     "iopub.status.busy": "2022-11-17T00:31:16.692663Z",
     "iopub.status.idle": "2022-11-17T00:31:16.697241Z",
     "shell.execute_reply": "2022-11-17T00:31:16.696226Z"
    },
    "papermill": {
     "duration": 0.015588,
     "end_time": "2022-11-17T00:31:16.699536",
     "exception": false,
     "start_time": "2022-11-17T00:31:16.683948",
     "status": "completed"
    },
    "tags": []
   },
   "outputs": [],
   "source": [
    "X = X.reshape(-1, 28, 28, 1)"
   ]
  },
  {
   "cell_type": "markdown",
   "id": "7e67216d",
   "metadata": {
    "papermill": {
     "duration": 0.00743,
     "end_time": "2022-11-17T00:31:16.714651",
     "exception": false,
     "start_time": "2022-11-17T00:31:16.707221",
     "status": "completed"
    },
    "tags": []
   },
   "source": [
    "### Label Encoding"
   ]
  },
  {
   "cell_type": "code",
   "execution_count": 7,
   "id": "7fdc2443",
   "metadata": {
    "execution": {
     "iopub.execute_input": "2022-11-17T00:31:16.737852Z",
     "iopub.status.busy": "2022-11-17T00:31:16.737494Z",
     "iopub.status.idle": "2022-11-17T00:31:16.746584Z",
     "shell.execute_reply": "2022-11-17T00:31:16.745672Z"
    },
    "papermill": {
     "duration": 0.026257,
     "end_time": "2022-11-17T00:31:16.748753",
     "exception": false,
     "start_time": "2022-11-17T00:31:16.722496",
     "status": "completed"
    },
    "tags": []
   },
   "outputs": [
    {
     "name": "stdout",
     "output_type": "stream",
     "text": [
      "(42000, 10)\n",
      "[0. 1. 0. 0. 0. 0. 0. 0. 0. 0.]\n"
     ]
    }
   ],
   "source": [
    "y = to_categorical(y)\n",
    "print(y.shape)\n",
    "print(y[0])"
   ]
  },
  {
   "cell_type": "markdown",
   "id": "ed00463c",
   "metadata": {
    "papermill": {
     "duration": 0.007833,
     "end_time": "2022-11-17T00:31:16.764596",
     "exception": false,
     "start_time": "2022-11-17T00:31:16.756763",
     "status": "completed"
    },
    "tags": []
   },
   "source": [
    "# Split the Data into Training and Validation"
   ]
  },
  {
   "cell_type": "code",
   "execution_count": 8,
   "id": "9f4f13c9",
   "metadata": {
    "execution": {
     "iopub.execute_input": "2022-11-17T00:31:16.781293Z",
     "iopub.status.busy": "2022-11-17T00:31:16.781018Z",
     "iopub.status.idle": "2022-11-17T00:31:17.160729Z",
     "shell.execute_reply": "2022-11-17T00:31:17.159753Z"
    },
    "papermill": {
     "duration": 0.390867,
     "end_time": "2022-11-17T00:31:17.163233",
     "exception": false,
     "start_time": "2022-11-17T00:31:16.772366",
     "status": "completed"
    },
    "tags": []
   },
   "outputs": [],
   "source": [
    "x_train, x_val, y_train, y_val = train_test_split(X, y, test_size=0.1, random_state=34, shuffle=True)\n"
   ]
  },
  {
   "cell_type": "code",
   "execution_count": 9,
   "id": "ed8f1caf",
   "metadata": {
    "execution": {
     "iopub.execute_input": "2022-11-17T00:31:17.181974Z",
     "iopub.status.busy": "2022-11-17T00:31:17.180316Z",
     "iopub.status.idle": "2022-11-17T00:31:17.187564Z",
     "shell.execute_reply": "2022-11-17T00:31:17.186572Z"
    },
    "papermill": {
     "duration": 0.018631,
     "end_time": "2022-11-17T00:31:17.189978",
     "exception": false,
     "start_time": "2022-11-17T00:31:17.171347",
     "status": "completed"
    },
    "tags": []
   },
   "outputs": [
    {
     "data": {
      "text/plain": [
       "((37800, 28, 28, 1), (37800, 10), (4200, 28, 28, 1), (4200, 10))"
      ]
     },
     "execution_count": 9,
     "metadata": {},
     "output_type": "execute_result"
    }
   ],
   "source": [
    "x_train.shape, y_train.shape, x_val.shape, y_val.shape"
   ]
  },
  {
   "cell_type": "markdown",
   "id": "2b64a18f",
   "metadata": {
    "papermill": {
     "duration": 0.00765,
     "end_time": "2022-11-17T00:31:17.205618",
     "exception": false,
     "start_time": "2022-11-17T00:31:17.197968",
     "status": "completed"
    },
    "tags": []
   },
   "source": [
    "# CNN-Arcitecture"
   ]
  },
  {
   "cell_type": "code",
   "execution_count": 10,
   "id": "f00fc796",
   "metadata": {
    "execution": {
     "iopub.execute_input": "2022-11-17T00:31:17.222334Z",
     "iopub.status.busy": "2022-11-17T00:31:17.222066Z",
     "iopub.status.idle": "2022-11-17T00:31:17.227492Z",
     "shell.execute_reply": "2022-11-17T00:31:17.226541Z"
    },
    "papermill": {
     "duration": 0.016118,
     "end_time": "2022-11-17T00:31:17.229594",
     "exception": false,
     "start_time": "2022-11-17T00:31:17.213476",
     "status": "completed"
    },
    "tags": []
   },
   "outputs": [],
   "source": [
    "from keras import Sequential\n",
    "from keras.layers import Conv2D, Dense, Flatten, Dropout, MaxPooling2D, BatchNormalization\n",
    "from keras.callbacks import ReduceLROnPlateau, EarlyStopping, LearningRateScheduler, learning_rate_schedule"
   ]
  },
  {
   "cell_type": "code",
   "execution_count": 11,
   "id": "f51578d6",
   "metadata": {
    "execution": {
     "iopub.execute_input": "2022-11-17T00:31:17.246262Z",
     "iopub.status.busy": "2022-11-17T00:31:17.245977Z",
     "iopub.status.idle": "2022-11-17T00:31:17.251071Z",
     "shell.execute_reply": "2022-11-17T00:31:17.250274Z"
    },
    "papermill": {
     "duration": 0.015695,
     "end_time": "2022-11-17T00:31:17.253018",
     "exception": false,
     "start_time": "2022-11-17T00:31:17.237323",
     "status": "completed"
    },
    "tags": []
   },
   "outputs": [],
   "source": [
    "lr_rate = 0.0001"
   ]
  },
  {
   "cell_type": "code",
   "execution_count": 12,
   "id": "1fef4e8e",
   "metadata": {
    "execution": {
     "iopub.execute_input": "2022-11-17T00:31:17.269740Z",
     "iopub.status.busy": "2022-11-17T00:31:17.269485Z",
     "iopub.status.idle": "2022-11-17T00:31:20.043356Z",
     "shell.execute_reply": "2022-11-17T00:31:20.042379Z"
    },
    "papermill": {
     "duration": 2.785418,
     "end_time": "2022-11-17T00:31:20.046308",
     "exception": false,
     "start_time": "2022-11-17T00:31:17.260890",
     "status": "completed"
    },
    "tags": []
   },
   "outputs": [
    {
     "name": "stderr",
     "output_type": "stream",
     "text": [
      "2022-11-17 00:31:17.368076: I tensorflow/stream_executor/cuda/cuda_gpu_executor.cc:937] successful NUMA node read from SysFS had negative value (-1), but there must be at least one NUMA node, so returning NUMA node zero\n",
      "2022-11-17 00:31:17.461017: I tensorflow/stream_executor/cuda/cuda_gpu_executor.cc:937] successful NUMA node read from SysFS had negative value (-1), but there must be at least one NUMA node, so returning NUMA node zero\n",
      "2022-11-17 00:31:17.461933: I tensorflow/stream_executor/cuda/cuda_gpu_executor.cc:937] successful NUMA node read from SysFS had negative value (-1), but there must be at least one NUMA node, so returning NUMA node zero\n",
      "2022-11-17 00:31:17.464040: I tensorflow/core/platform/cpu_feature_guard.cc:142] This TensorFlow binary is optimized with oneAPI Deep Neural Network Library (oneDNN) to use the following CPU instructions in performance-critical operations:  AVX2 AVX512F FMA\n",
      "To enable them in other operations, rebuild TensorFlow with the appropriate compiler flags.\n",
      "2022-11-17 00:31:17.464446: I tensorflow/stream_executor/cuda/cuda_gpu_executor.cc:937] successful NUMA node read from SysFS had negative value (-1), but there must be at least one NUMA node, so returning NUMA node zero\n",
      "2022-11-17 00:31:17.465399: I tensorflow/stream_executor/cuda/cuda_gpu_executor.cc:937] successful NUMA node read from SysFS had negative value (-1), but there must be at least one NUMA node, so returning NUMA node zero\n",
      "2022-11-17 00:31:17.466301: I tensorflow/stream_executor/cuda/cuda_gpu_executor.cc:937] successful NUMA node read from SysFS had negative value (-1), but there must be at least one NUMA node, so returning NUMA node zero\n",
      "2022-11-17 00:31:19.565867: I tensorflow/stream_executor/cuda/cuda_gpu_executor.cc:937] successful NUMA node read from SysFS had negative value (-1), but there must be at least one NUMA node, so returning NUMA node zero\n",
      "2022-11-17 00:31:19.566769: I tensorflow/stream_executor/cuda/cuda_gpu_executor.cc:937] successful NUMA node read from SysFS had negative value (-1), but there must be at least one NUMA node, so returning NUMA node zero\n",
      "2022-11-17 00:31:19.567430: I tensorflow/stream_executor/cuda/cuda_gpu_executor.cc:937] successful NUMA node read from SysFS had negative value (-1), but there must be at least one NUMA node, so returning NUMA node zero\n",
      "2022-11-17 00:31:19.568020: I tensorflow/core/common_runtime/gpu/gpu_device.cc:1510] Created device /job:localhost/replica:0/task:0/device:GPU:0 with 15401 MB memory:  -> device: 0, name: Tesla P100-PCIE-16GB, pci bus id: 0000:00:04.0, compute capability: 6.0\n"
     ]
    }
   ],
   "source": [
    "model = Sequential()\n",
    "\n",
    "model.add(Conv2D(filters=64, kernel_size=(3, 3), padding='same', activation='relu', input_shape=(X.shape[1:])))\n",
    "model.add(Conv2D(filters=64, kernel_size=(3, 3), activation='relu'))\n",
    "model.add(MaxPooling2D((2, 2)))\n",
    "model.add(BatchNormalization())\n",
    "\n",
    "model.add(Conv2D(filters=128, kernel_size=(3, 3), padding='same', activation='relu'))\n",
    "model.add(Conv2D(filters=128, kernel_size=(3, 3), activation='relu'))\n",
    "model.add(MaxPooling2D((2, 2)))\n",
    "model.add(BatchNormalization())\n",
    "\n",
    "model.add(Conv2D(filters=256, kernel_size=(3, 3), padding='same', activation='relu'))\n",
    "model.add(MaxPooling2D((2, 2)))\n",
    "model.add(BatchNormalization())\n",
    "\n",
    "model.add(Flatten())\n",
    "\n",
    "model.add(Dense(512, activation='relu'))\n",
    "model.add(Dense(10, activation='softmax'))\n"
   ]
  },
  {
   "cell_type": "code",
   "execution_count": 13,
   "id": "e53bb4b2",
   "metadata": {
    "execution": {
     "iopub.execute_input": "2022-11-17T00:31:20.064666Z",
     "iopub.status.busy": "2022-11-17T00:31:20.064386Z",
     "iopub.status.idle": "2022-11-17T00:31:20.079715Z",
     "shell.execute_reply": "2022-11-17T00:31:20.078878Z"
    },
    "papermill": {
     "duration": 0.026483,
     "end_time": "2022-11-17T00:31:20.081979",
     "exception": false,
     "start_time": "2022-11-17T00:31:20.055496",
     "status": "completed"
    },
    "tags": []
   },
   "outputs": [
    {
     "name": "stdout",
     "output_type": "stream",
     "text": [
      "Model: \"sequential\"\n",
      "_________________________________________________________________\n",
      "Layer (type)                 Output Shape              Param #   \n",
      "=================================================================\n",
      "conv2d (Conv2D)              (None, 28, 28, 64)        640       \n",
      "_________________________________________________________________\n",
      "conv2d_1 (Conv2D)            (None, 26, 26, 64)        36928     \n",
      "_________________________________________________________________\n",
      "max_pooling2d (MaxPooling2D) (None, 13, 13, 64)        0         \n",
      "_________________________________________________________________\n",
      "batch_normalization (BatchNo (None, 13, 13, 64)        256       \n",
      "_________________________________________________________________\n",
      "conv2d_2 (Conv2D)            (None, 13, 13, 128)       73856     \n",
      "_________________________________________________________________\n",
      "conv2d_3 (Conv2D)            (None, 11, 11, 128)       147584    \n",
      "_________________________________________________________________\n",
      "max_pooling2d_1 (MaxPooling2 (None, 5, 5, 128)         0         \n",
      "_________________________________________________________________\n",
      "batch_normalization_1 (Batch (None, 5, 5, 128)         512       \n",
      "_________________________________________________________________\n",
      "conv2d_4 (Conv2D)            (None, 5, 5, 256)         295168    \n",
      "_________________________________________________________________\n",
      "max_pooling2d_2 (MaxPooling2 (None, 2, 2, 256)         0         \n",
      "_________________________________________________________________\n",
      "batch_normalization_2 (Batch (None, 2, 2, 256)         1024      \n",
      "_________________________________________________________________\n",
      "flatten (Flatten)            (None, 1024)              0         \n",
      "_________________________________________________________________\n",
      "dense (Dense)                (None, 512)               524800    \n",
      "_________________________________________________________________\n",
      "dense_1 (Dense)              (None, 10)                5130      \n",
      "=================================================================\n",
      "Total params: 1,085,898\n",
      "Trainable params: 1,085,002\n",
      "Non-trainable params: 896\n",
      "_________________________________________________________________\n"
     ]
    }
   ],
   "source": [
    "model.compile(optimizer=Adam(learning_rate=lr_rate), loss='categorical_crossentropy', metrics=['accuracy'])\n",
    "model.summary()"
   ]
  },
  {
   "cell_type": "code",
   "execution_count": 14,
   "id": "fb671935",
   "metadata": {
    "execution": {
     "iopub.execute_input": "2022-11-17T00:31:20.099451Z",
     "iopub.status.busy": "2022-11-17T00:31:20.099187Z",
     "iopub.status.idle": "2022-11-17T00:31:20.103770Z",
     "shell.execute_reply": "2022-11-17T00:31:20.102784Z"
    },
    "papermill": {
     "duration": 0.017996,
     "end_time": "2022-11-17T00:31:20.108311",
     "exception": false,
     "start_time": "2022-11-17T00:31:20.090315",
     "status": "completed"
    },
    "tags": []
   },
   "outputs": [],
   "source": [
    "BATCH_SIZE = 128\n",
    "EPOCHES = 50\n",
    "\n",
    "train_steps = x_train.shape[0] // BATCH_SIZE\n",
    "val_steps = x_val.shape[0] // BATCH_SIZE"
   ]
  },
  {
   "cell_type": "markdown",
   "id": "6f90ff4e",
   "metadata": {
    "papermill": {
     "duration": 0.011706,
     "end_time": "2022-11-17T00:31:20.139525",
     "exception": false,
     "start_time": "2022-11-17T00:31:20.127819",
     "status": "completed"
    },
    "tags": []
   },
   "source": [
    "# Callbacks"
   ]
  },
  {
   "cell_type": "code",
   "execution_count": 15,
   "id": "2ac0dd9b",
   "metadata": {
    "execution": {
     "iopub.execute_input": "2022-11-17T00:31:20.180132Z",
     "iopub.status.busy": "2022-11-17T00:31:20.179248Z",
     "iopub.status.idle": "2022-11-17T00:31:20.185870Z",
     "shell.execute_reply": "2022-11-17T00:31:20.185043Z"
    },
    "papermill": {
     "duration": 0.034907,
     "end_time": "2022-11-17T00:31:20.189249",
     "exception": false,
     "start_time": "2022-11-17T00:31:20.154342",
     "status": "completed"
    },
    "tags": []
   },
   "outputs": [],
   "source": [
    "early_stop = EarlyStopping(monitor='val_loss',\n",
    "                           patience=10,\n",
    "                           mode='max',\n",
    "                           verbose=1,\n",
    "                           restore_best_weights=True,\n",
    "                           )\n",
    "\n",
    "red_plateau = ReduceLROnPlateau(monitor='val_loss',\n",
    "                                factor=0.5,\n",
    "                                patience=5,\n",
    "                                verbose=1,\n",
    "                                min_delta=0.00001,\n",
    "                                mode='max',                                \n",
    "                                )\n",
    "\n",
    "callbacks = [early_stop, red_plateau]"
   ]
  },
  {
   "cell_type": "markdown",
   "id": "07cb329b",
   "metadata": {
    "papermill": {
     "duration": 0.013157,
     "end_time": "2022-11-17T00:31:20.216281",
     "exception": false,
     "start_time": "2022-11-17T00:31:20.203124",
     "status": "completed"
    },
    "tags": []
   },
   "source": [
    "## training"
   ]
  },
  {
   "cell_type": "code",
   "execution_count": 16,
   "id": "6c6a1bb7",
   "metadata": {
    "execution": {
     "iopub.execute_input": "2022-11-17T00:31:20.252271Z",
     "iopub.status.busy": "2022-11-17T00:31:20.251750Z",
     "iopub.status.idle": "2022-11-17T00:32:06.361556Z",
     "shell.execute_reply": "2022-11-17T00:32:06.360677Z"
    },
    "papermill": {
     "duration": 46.132653,
     "end_time": "2022-11-17T00:32:06.363682",
     "exception": false,
     "start_time": "2022-11-17T00:31:20.231029",
     "status": "completed"
    },
    "tags": []
   },
   "outputs": [
    {
     "name": "stderr",
     "output_type": "stream",
     "text": [
      "2022-11-17 00:31:20.848871: I tensorflow/compiler/mlir/mlir_graph_optimization_pass.cc:185] None of the MLIR Optimization Passes are enabled (registered 2)\n"
     ]
    },
    {
     "name": "stdout",
     "output_type": "stream",
     "text": [
      "Epoch 1/50\n"
     ]
    },
    {
     "name": "stderr",
     "output_type": "stream",
     "text": [
      "2022-11-17 00:31:22.348722: I tensorflow/stream_executor/cuda/cuda_dnn.cc:369] Loaded cuDNN version 8005\n"
     ]
    },
    {
     "name": "stdout",
     "output_type": "stream",
     "text": [
      "295/295 [==============================] - 11s 13ms/step - loss: 0.1807 - accuracy: 0.9468 - val_loss: 0.0817 - val_accuracy: 0.9766\n",
      "Epoch 2/50\n",
      "295/295 [==============================] - 3s 11ms/step - loss: 0.0334 - accuracy: 0.9915 - val_loss: 0.0464 - val_accuracy: 0.9871\n",
      "Epoch 3/50\n",
      "295/295 [==============================] - 3s 11ms/step - loss: 0.0132 - accuracy: 0.9977 - val_loss: 0.0453 - val_accuracy: 0.9858\n",
      "Epoch 4/50\n",
      "295/295 [==============================] - 4s 12ms/step - loss: 0.0055 - accuracy: 0.9995 - val_loss: 0.0388 - val_accuracy: 0.9885\n",
      "Epoch 5/50\n",
      "295/295 [==============================] - 4s 12ms/step - loss: 0.0029 - accuracy: 0.9998 - val_loss: 0.0388 - val_accuracy: 0.9893\n",
      "Epoch 6/50\n",
      "295/295 [==============================] - 3s 11ms/step - loss: 0.0013 - accuracy: 1.0000 - val_loss: 0.0384 - val_accuracy: 0.9890\n",
      "\n",
      "Epoch 00006: ReduceLROnPlateau reducing learning rate to 4.999999873689376e-05.\n",
      "Epoch 7/50\n",
      "295/295 [==============================] - 3s 11ms/step - loss: 7.6921e-04 - accuracy: 1.0000 - val_loss: 0.0387 - val_accuracy: 0.9895\n",
      "Epoch 8/50\n",
      "295/295 [==============================] - 3s 12ms/step - loss: 6.4609e-04 - accuracy: 1.0000 - val_loss: 0.0387 - val_accuracy: 0.9897\n",
      "Epoch 9/50\n",
      "295/295 [==============================] - 3s 11ms/step - loss: 5.2643e-04 - accuracy: 1.0000 - val_loss: 0.0388 - val_accuracy: 0.9897\n",
      "Epoch 10/50\n",
      "295/295 [==============================] - 3s 11ms/step - loss: 4.5724e-04 - accuracy: 1.0000 - val_loss: 0.0392 - val_accuracy: 0.9893\n",
      "Epoch 11/50\n",
      "295/295 [==============================] - 3s 12ms/step - loss: 3.9531e-04 - accuracy: 1.0000 - val_loss: 0.0392 - val_accuracy: 0.9895\n",
      "Restoring model weights from the end of the best epoch.\n",
      "\n",
      "Epoch 00011: ReduceLROnPlateau reducing learning rate to 2.499999936844688e-05.\n",
      "Epoch 00011: early stopping\n"
     ]
    }
   ],
   "source": [
    "history = model.fit(x_train, y_train,\n",
    "          steps_per_epoch=train_steps,\n",
    "          batch_size=BATCH_SIZE, epochs=EPOCHES,\n",
    "          validation_data=(x_val, y_val),\n",
    "          validation_steps=val_steps,\n",
    "          callbacks=callbacks,\n",
    "          verbose=1\n",
    "          )\n"
   ]
  },
  {
   "cell_type": "markdown",
   "id": "de9a0dfe",
   "metadata": {
    "papermill": {
     "duration": 0.040909,
     "end_time": "2022-11-17T00:32:06.446332",
     "exception": false,
     "start_time": "2022-11-17T00:32:06.405423",
     "status": "completed"
    },
    "tags": []
   },
   "source": [
    "# Evaluation"
   ]
  },
  {
   "cell_type": "code",
   "execution_count": 17,
   "id": "27c3b3b5",
   "metadata": {
    "execution": {
     "iopub.execute_input": "2022-11-17T00:32:06.530602Z",
     "iopub.status.busy": "2022-11-17T00:32:06.529110Z",
     "iopub.status.idle": "2022-11-17T00:32:43.806918Z",
     "shell.execute_reply": "2022-11-17T00:32:43.806027Z"
    },
    "papermill": {
     "duration": 37.363699,
     "end_time": "2022-11-17T00:32:43.850990",
     "exception": false,
     "start_time": "2022-11-17T00:32:06.487291",
     "status": "completed"
    },
    "tags": []
   },
   "outputs": [
    {
     "data": {
      "image/png": "[encoded data removed]",
      "text/plain": [
       "<Figure size 1296x720 with 2 Axes>"
      ]
     },
     "metadata": {
      "needs_background": "light"
     },
     "output_type": "display_data"
    }
   ],
   "source": [
    "# Plot the loss and accuracy curves for training and validation \n",
    "fig, ax = plt.subplots(2,1, figsize=(18, 10))\n",
    "ax[0].plot(history.history['loss'], color='b', label=\"Training loss\")\n",
    "ax[0].plot(history.history['val_loss'], color='r', label=\"validation loss\",axes =ax[0])\n",
    "legend = ax[0].legend(loc='best', shadow=True)\n",
    "\n",
    "ax[1].plot(history.history['accuracy'], color='b', label=\"Training accuracy\")\n",
    "ax[1].plot(history.history['val_accuracy'], color='r',label=\"Validation accuracy\")\n",
    "legend = ax[1].legend(loc='best', shadow=True)"
   ]
  },
  {
   "cell_type": "markdown",
   "id": "a132796e",
   "metadata": {
    "papermill": {
     "duration": 0.043291,
     "end_time": "2022-11-17T00:32:43.936480",
     "exception": false,
     "start_time": "2022-11-17T00:32:43.893189",
     "status": "completed"
    },
    "tags": []
   },
   "source": [
    "### Evaluate model on mnist dataset to quick check its accuracy"
   ]
  },
  {
   "cell_type": "code",
   "execution_count": 18,
   "id": "e01cd4c9",
   "metadata": {
    "execution": {
     "iopub.execute_input": "2022-11-17T00:32:44.022742Z",
     "iopub.status.busy": "2022-11-17T00:32:44.022390Z",
     "iopub.status.idle": "2022-11-17T00:32:44.437616Z",
     "shell.execute_reply": "2022-11-17T00:32:44.436689Z"
    },
    "papermill": {
     "duration": 0.461216,
     "end_time": "2022-11-17T00:32:44.439987",
     "exception": false,
     "start_time": "2022-11-17T00:32:43.978771",
     "status": "completed"
    },
    "tags": []
   },
   "outputs": [
    {
     "name": "stdout",
     "output_type": "stream",
     "text": [
      "Downloading data from https://storage.googleapis.com/tensorflow/tf-keras-datasets/mnist.npz\n",
      "11493376/11490434 [==============================] - 0s 0us/step\n",
      "11501568/11490434 [==============================] - 0s 0us/step\n"
     ]
    }
   ],
   "source": [
    "from keras.datasets import mnist\n",
    "(x_train_load, y_train_load), (x_test, y_test) = mnist.load_data()\n"
   ]
  },
  {
   "cell_type": "code",
   "execution_count": 19,
   "id": "f44d68a0",
   "metadata": {
    "execution": {
     "iopub.execute_input": "2022-11-17T00:32:44.526174Z",
     "iopub.status.busy": "2022-11-17T00:32:44.525817Z",
     "iopub.status.idle": "2022-11-17T00:32:44.533668Z",
     "shell.execute_reply": "2022-11-17T00:32:44.532686Z"
    },
    "papermill": {
     "duration": 0.053174,
     "end_time": "2022-11-17T00:32:44.535769",
     "exception": false,
     "start_time": "2022-11-17T00:32:44.482595",
     "status": "completed"
    },
    "tags": []
   },
   "outputs": [
    {
     "data": {
      "text/plain": [
       "((10000, 28, 28, 1), (10000, 10))"
      ]
     },
     "execution_count": 19,
     "metadata": {},
     "output_type": "execute_result"
    }
   ],
   "source": [
    "# x_test = x_test // 255.0\n",
    "x_test = x_test.reshape(-1, 28, 28, 1)\n",
    "\n",
    "y_test = to_categorical(y_test)\n",
    "\n",
    "x_test.shape, y_test.shape"
   ]
  },
  {
   "cell_type": "code",
   "execution_count": 20,
   "id": "dc8a84d4",
   "metadata": {
    "execution": {
     "iopub.execute_input": "2022-11-17T00:32:44.620687Z",
     "iopub.status.busy": "2022-11-17T00:32:44.620429Z",
     "iopub.status.idle": "2022-11-17T00:32:45.729813Z",
     "shell.execute_reply": "2022-11-17T00:32:45.728935Z"
    },
    "papermill": {
     "duration": 1.154453,
     "end_time": "2022-11-17T00:32:45.731904",
     "exception": false,
     "start_time": "2022-11-17T00:32:44.577451",
     "status": "completed"
    },
    "tags": []
   },
   "outputs": [
    {
     "data": {
      "image/png": "[encoded data removed]",
      "text/plain": [
       "<Figure size 720x720 with 1 Axes>"
      ]
     },
     "metadata": {
      "needs_background": "light"
     },
     "output_type": "display_data"
    }
   ],
   "source": [
    "fig = plt.figure(figsize=(10, 10)) # Set Figure\n",
    "\n",
    "y_pred = model.predict(x_test) # Predict class probabilities as 2 => [0.1, 0, 0.9, 0, 0, 0, 0, 0, 0, 0]\n",
    "\n",
    "Y_pred = np.argmax(y_pred, 1) # Decode Predicted labels\n",
    "Y_test = np.argmax(y_test, 1) # Decode labels\n",
    "\n",
    "mat = confusion_matrix(Y_test, Y_pred) # Confusion matrix\n",
    "\n",
    "# Plot Confusion matrix\n",
    "sns.heatmap(mat.T, square=True, annot=True, cbar=False, cmap=plt.cm.Blues, fmt='.0f')\n",
    "plt.xlabel('Predicted Values')\n",
    "plt.ylabel('True Values')\n",
    "plt.show()"
   ]
  },
  {
   "cell_type": "code",
   "execution_count": 21,
   "id": "ab4dc311",
   "metadata": {
    "execution": {
     "iopub.execute_input": "2022-11-17T00:32:45.819775Z",
     "iopub.status.busy": "2022-11-17T00:32:45.819483Z",
     "iopub.status.idle": "2022-11-17T00:32:45.845197Z",
     "shell.execute_reply": "2022-11-17T00:32:45.843956Z"
    },
    "papermill": {
     "duration": 0.072397,
     "end_time": "2022-11-17T00:32:45.847628",
     "exception": false,
     "start_time": "2022-11-17T00:32:45.775231",
     "status": "completed"
    },
    "tags": []
   },
   "outputs": [
    {
     "name": "stdout",
     "output_type": "stream",
     "text": [
      "              precision    recall  f1-score   support\n",
      "\n",
      "           0       0.99      0.99      0.99       980\n",
      "           1       0.99      0.99      0.99      1135\n",
      "           2       0.98      0.99      0.98      1032\n",
      "           3       0.96      1.00      0.98      1010\n",
      "           4       1.00      0.97      0.98       982\n",
      "           5       1.00      0.97      0.99       892\n",
      "           6       0.99      0.99      0.99       958\n",
      "           7       0.98      0.98      0.98      1028\n",
      "           8       0.97      0.99      0.98       974\n",
      "           9       0.98      0.98      0.98      1009\n",
      "\n",
      "    accuracy                           0.98     10000\n",
      "   macro avg       0.98      0.98      0.98     10000\n",
      "weighted avg       0.98      0.98      0.98     10000\n",
      "\n"
     ]
    }
   ],
   "source": [
    "print(classification_report(Y_test, Y_pred))"
   ]
  },
  {
   "cell_type": "code",
   "execution_count": 22,
   "id": "e9079850",
   "metadata": {
    "execution": {
     "iopub.execute_input": "2022-11-17T00:32:45.935531Z",
     "iopub.status.busy": "2022-11-17T00:32:45.935258Z",
     "iopub.status.idle": "2022-11-17T00:32:48.474751Z",
     "shell.execute_reply": "2022-11-17T00:32:48.473755Z"
    },
    "papermill": {
     "duration": 2.586635,
     "end_time": "2022-11-17T00:32:48.477494",
     "exception": false,
     "start_time": "2022-11-17T00:32:45.890859",
     "status": "completed"
    },
    "tags": []
   },
   "outputs": [
    {
     "data": {
      "image/png": "[encoded data removed]",
      "text/plain": [
       "<Figure size 864x792 with 12 Axes>"
      ]
     },
     "metadata": {
      "needs_background": "light"
     },
     "output_type": "display_data"
    }
   ],
   "source": [
    "y_pred = model.predict(x_test)\n",
    "X_test__ = x_test.reshape(x_test.shape[0], 28, 28)\n",
    "\n",
    "fig, axis = plt.subplots(3, 4, figsize=(12, 11))\n",
    "for i, ax in enumerate(axis.flat):\n",
    "    ax.imshow(X_test__[i], cmap='binary')\n",
    "    ax.set(title = f\"Real Number is {y_test[i].argmax()}\\nPredict Number is {y_pred[i].argmax()}\")"
   ]
  },
  {
   "cell_type": "markdown",
   "id": "e92711b1",
   "metadata": {
    "papermill": {
     "duration": 0.064282,
     "end_time": "2022-11-17T00:32:48.606964",
     "exception": false,
     "start_time": "2022-11-17T00:32:48.542682",
     "status": "completed"
    },
    "tags": []
   },
   "source": [
    "# Prediction"
   ]
  },
  {
   "cell_type": "code",
   "execution_count": 23,
   "id": "c5c3e099",
   "metadata": {
    "execution": {
     "iopub.execute_input": "2022-11-17T00:32:48.736125Z",
     "iopub.status.busy": "2022-11-17T00:32:48.735589Z",
     "iopub.status.idle": "2022-11-17T00:32:50.706168Z",
     "shell.execute_reply": "2022-11-17T00:32:50.705188Z"
    },
    "papermill": {
     "duration": 2.037791,
     "end_time": "2022-11-17T00:32:50.708412",
     "exception": false,
     "start_time": "2022-11-17T00:32:48.670621",
     "status": "completed"
    },
    "tags": []
   },
   "outputs": [
    {
     "data": {
      "text/html": [
       "<div>\n",
       "<style scoped>\n",
       "    .dataframe tbody tr th:only-of-type {\n",
       "        vertical-align: middle;\n",
       "    }\n",
       "\n",
       "    .dataframe tbody tr th {\n",
       "        vertical-align: top;\n",
       "    }\n",
       "\n",
       "    .dataframe thead th {\n",
       "        text-align: right;\n",
       "    }\n",
       "</style>\n",
       "<table border=\"1\" class=\"dataframe\">\n",
       "  <thead>\n",
       "    <tr style=\"text-align: right;\">\n",
       "      <th></th>\n",
       "      <th>pixel0</th>\n",
       "      <th>pixel1</th>\n",
       "      <th>pixel2</th>\n",
       "      <th>pixel3</th>\n",
       "      <th>pixel4</th>\n",
       "      <th>pixel5</th>\n",
       "      <th>pixel6</th>\n",
       "      <th>pixel7</th>\n",
       "      <th>pixel8</th>\n",
       "      <th>pixel9</th>\n",
       "      <th>...</th>\n",
       "      <th>pixel774</th>\n",
       "      <th>pixel775</th>\n",
       "      <th>pixel776</th>\n",
       "      <th>pixel777</th>\n",
       "      <th>pixel778</th>\n",
       "      <th>pixel779</th>\n",
       "      <th>pixel780</th>\n",
       "      <th>pixel781</th>\n",
       "      <th>pixel782</th>\n",
       "      <th>pixel783</th>\n",
       "    </tr>\n",
       "  </thead>\n",
       "  <tbody>\n",
       "    <tr>\n",
       "      <th>0</th>\n",
       "      <td>0</td>\n",
       "      <td>0</td>\n",
       "      <td>0</td>\n",
       "      <td>0</td>\n",
       "      <td>0</td>\n",
       "      <td>0</td>\n",
       "      <td>0</td>\n",
       "      <td>0</td>\n",
       "      <td>0</td>\n",
       "      <td>0</td>\n",
       "      <td>...</td>\n",
       "      <td>0</td>\n",
       "      <td>0</td>\n",
       "      <td>0</td>\n",
       "      <td>0</td>\n",
       "      <td>0</td>\n",
       "      <td>0</td>\n",
       "      <td>0</td>\n",
       "      <td>0</td>\n",
       "      <td>0</td>\n",
       "      <td>0</td>\n",
       "    </tr>\n",
       "    <tr>\n",
       "      <th>1</th>\n",
       "      <td>0</td>\n",
       "      <td>0</td>\n",
       "      <td>0</td>\n",
       "      <td>0</td>\n",
       "      <td>0</td>\n",
       "      <td>0</td>\n",
       "      <td>0</td>\n",
       "      <td>0</td>\n",
       "      <td>0</td>\n",
       "      <td>0</td>\n",
       "      <td>...</td>\n",
       "      <td>0</td>\n",
       "      <td>0</td>\n",
       "      <td>0</td>\n",
       "      <td>0</td>\n",
       "      <td>0</td>\n",
       "      <td>0</td>\n",
       "      <td>0</td>\n",
       "      <td>0</td>\n",
       "      <td>0</td>\n",
       "      <td>0</td>\n",
       "    </tr>\n",
       "    <tr>\n",
       "      <th>2</th>\n",
       "      <td>0</td>\n",
       "      <td>0</td>\n",
       "      <td>0</td>\n",
       "      <td>0</td>\n",
       "      <td>0</td>\n",
       "      <td>0</td>\n",
       "      <td>0</td>\n",
       "      <td>0</td>\n",
       "      <td>0</td>\n",
       "      <td>0</td>\n",
       "      <td>...</td>\n",
       "      <td>0</td>\n",
       "      <td>0</td>\n",
       "      <td>0</td>\n",
       "      <td>0</td>\n",
       "      <td>0</td>\n",
       "      <td>0</td>\n",
       "      <td>0</td>\n",
       "      <td>0</td>\n",
       "      <td>0</td>\n",
       "      <td>0</td>\n",
       "    </tr>\n",
       "    <tr>\n",
       "      <th>3</th>\n",
       "      <td>0</td>\n",
       "      <td>0</td>\n",
       "      <td>0</td>\n",
       "      <td>0</td>\n",
       "      <td>0</td>\n",
       "      <td>0</td>\n",
       "      <td>0</td>\n",
       "      <td>0</td>\n",
       "      <td>0</td>\n",
       "      <td>0</td>\n",
       "      <td>...</td>\n",
       "      <td>0</td>\n",
       "      <td>0</td>\n",
       "      <td>0</td>\n",
       "      <td>0</td>\n",
       "      <td>0</td>\n",
       "      <td>0</td>\n",
       "      <td>0</td>\n",
       "      <td>0</td>\n",
       "      <td>0</td>\n",
       "      <td>0</td>\n",
       "    </tr>\n",
       "    <tr>\n",
       "      <th>4</th>\n",
       "      <td>0</td>\n",
       "      <td>0</td>\n",
       "      <td>0</td>\n",
       "      <td>0</td>\n",
       "      <td>0</td>\n",
       "      <td>0</td>\n",
       "      <td>0</td>\n",
       "      <td>0</td>\n",
       "      <td>0</td>\n",
       "      <td>0</td>\n",
       "      <td>...</td>\n",
       "      <td>0</td>\n",
       "      <td>0</td>\n",
       "      <td>0</td>\n",
       "      <td>0</td>\n",
       "      <td>0</td>\n",
       "      <td>0</td>\n",
       "      <td>0</td>\n",
       "      <td>0</td>\n",
       "      <td>0</td>\n",
       "      <td>0</td>\n",
       "    </tr>\n",
       "  </tbody>\n",
       "</table>\n",
       "<p>5 rows × 784 columns</p>\n",
       "</div>"
      ],
      "text/plain": [
       "   pixel0  pixel1  pixel2  pixel3  pixel4  pixel5  pixel6  pixel7  pixel8  \\\n",
       "0       0       0       0       0       0       0       0       0       0   \n",
       "1       0       0       0       0       0       0       0       0       0   \n",
       "2       0       0       0       0       0       0       0       0       0   \n",
       "3       0       0       0       0       0       0       0       0       0   \n",
       "4       0       0       0       0       0       0       0       0       0   \n",
       "\n",
       "   pixel9  ...  pixel774  pixel775  pixel776  pixel777  pixel778  pixel779  \\\n",
       "0       0  ...         0         0         0         0         0         0   \n",
       "1       0  ...         0         0         0         0         0         0   \n",
       "2       0  ...         0         0         0         0         0         0   \n",
       "3       0  ...         0         0         0         0         0         0   \n",
       "4       0  ...         0         0         0         0         0         0   \n",
       "\n",
       "   pixel780  pixel781  pixel782  pixel783  \n",
       "0         0         0         0         0  \n",
       "1         0         0         0         0  \n",
       "2         0         0         0         0  \n",
       "3         0         0         0         0  \n",
       "4         0         0         0         0  \n",
       "\n",
       "[5 rows x 784 columns]"
      ]
     },
     "execution_count": 23,
     "metadata": {},
     "output_type": "execute_result"
    }
   ],
   "source": [
    "df_test = pd.read_csv('../input/digit-recognizer/test.csv')\n",
    "df_test.head()"
   ]
  },
  {
   "cell_type": "code",
   "execution_count": 24,
   "id": "df641479",
   "metadata": {
    "execution": {
     "iopub.execute_input": "2022-11-17T00:32:50.797441Z",
     "iopub.status.busy": "2022-11-17T00:32:50.797148Z",
     "iopub.status.idle": "2022-11-17T00:32:50.803485Z",
     "shell.execute_reply": "2022-11-17T00:32:50.802517Z"
    },
    "papermill": {
     "duration": 0.053144,
     "end_time": "2022-11-17T00:32:50.805609",
     "exception": false,
     "start_time": "2022-11-17T00:32:50.752465",
     "status": "completed"
    },
    "tags": []
   },
   "outputs": [
    {
     "data": {
      "text/plain": [
       "(28000, 28, 28, 1)"
      ]
     },
     "execution_count": 24,
     "metadata": {},
     "output_type": "execute_result"
    }
   ],
   "source": [
    "df_test = df_test.values.reshape(-1, 28, 28, 1)\n",
    "df_test.shape\n"
   ]
  },
  {
   "cell_type": "code",
   "execution_count": 25,
   "id": "8bda6461",
   "metadata": {
    "execution": {
     "iopub.execute_input": "2022-11-17T00:32:50.894376Z",
     "iopub.status.busy": "2022-11-17T00:32:50.894080Z",
     "iopub.status.idle": "2022-11-17T00:32:53.950278Z",
     "shell.execute_reply": "2022-11-17T00:32:53.949128Z"
    },
    "papermill": {
     "duration": 3.103881,
     "end_time": "2022-11-17T00:32:53.953207",
     "exception": false,
     "start_time": "2022-11-17T00:32:50.849326",
     "status": "completed"
    },
    "tags": []
   },
   "outputs": [
    {
     "name": "stdout",
     "output_type": "stream",
     "text": [
      "875/875 [==============================] - 2s 2ms/step\n"
     ]
    }
   ],
   "source": [
    "pred = model.predict(df_test, verbose=1)"
   ]
  },
  {
   "cell_type": "code",
   "execution_count": 26,
   "id": "362439ed",
   "metadata": {
    "execution": {
     "iopub.execute_input": "2022-11-17T00:32:54.060419Z",
     "iopub.status.busy": "2022-11-17T00:32:54.060098Z",
     "iopub.status.idle": "2022-11-17T00:32:54.064689Z",
     "shell.execute_reply": "2022-11-17T00:32:54.063664Z"
    },
    "papermill": {
     "duration": 0.06002,
     "end_time": "2022-11-17T00:32:54.066923",
     "exception": false,
     "start_time": "2022-11-17T00:32:54.006903",
     "status": "completed"
    },
    "tags": []
   },
   "outputs": [],
   "source": [
    "LABELS = [0, 1, 2, 3, 4, 5, 6, 7, 8, 9]"
   ]
  },
  {
   "cell_type": "code",
   "execution_count": 27,
   "id": "33881bf4",
   "metadata": {
    "execution": {
     "iopub.execute_input": "2022-11-17T00:32:54.158386Z",
     "iopub.status.busy": "2022-11-17T00:32:54.158114Z",
     "iopub.status.idle": "2022-11-17T00:32:55.051343Z",
     "shell.execute_reply": "2022-11-17T00:32:55.050363Z"
    },
    "papermill": {
     "duration": 0.942115,
     "end_time": "2022-11-17T00:32:55.053505",
     "exception": false,
     "start_time": "2022-11-17T00:32:54.111390",
     "status": "completed"
    },
    "tags": []
   },
   "outputs": [
    {
     "data": {
      "image/png": "[encoded data removed]",
      "text/plain": [
       "<Figure size 864x720 with 25 Axes>"
      ]
     },
     "metadata": {
      "needs_background": "light"
     },
     "output_type": "display_data"
    }
   ],
   "source": [
    "plt.figure(figsize=(12, 10))\n",
    "for n, i in enumerate(list(np.random.randint(0, len(df_test), 25))):\n",
    "    plt.subplot(5, 5, n+1)\n",
    "    plt.imshow(array_to_img(df_test[i]))\n",
    "    plt.axis('off')\n",
    "    plt.title(f'predicted number : {LABELS[np.argmax(pred[i])]}')"
   ]
  },
  {
   "cell_type": "markdown",
   "id": "c13bc40d",
   "metadata": {},
   "source": [
    "##### Looking pretty good!!"
   ]
  },
  {
   "cell_type": "code",
   "execution_count": null,
   "id": "4ab058d3",
   "metadata": {
    "papermill": {
     "duration": 0.044868,
     "end_time": "2022-11-17T00:32:55.540900",
     "exception": false,
     "start_time": "2022-11-17T00:32:55.496032",
     "status": "completed"
    },
    "tags": []
   },
   "outputs": [],
   "source": []
  }
 ],
 "metadata": {
  "kernelspec": {
   "display_name": "Python 3.10.6 64-bit",
   "language": "python",
   "name": "python3"
  },
  "language_info": {
   "codemirror_mode": {
    "name": "ipython",
    "version": 3
   },
   "file_extension": ".py",
   "mimetype": "text/x-python",
   "name": "python",
   "nbconvert_exporter": "python",
   "pygments_lexer": "ipython3",
   "version": "3.10.6"
  },
  "papermill": {
   "default_parameters": {},
   "duration": 119.334491,
   "end_time": "2022-11-17T00:32:58.829439",
   "environment_variables": {},
   "exception": null,
   "input_path": "__notebook__.ipynb",
   "output_path": "__notebook__.ipynb",
   "parameters": {},
   "start_time": "2022-11-17T00:30:59.494948",
   "version": "2.3.4"
  },
  "vscode": {
   "interpreter": {
    "hash": "c3d1afe0d60513d76c8f677ca94a647414495a9c92f28d0fd1aa0b79db8c8975"
   }
  }
 },
 "nbformat": 4,
 "nbformat_minor": 5
}
