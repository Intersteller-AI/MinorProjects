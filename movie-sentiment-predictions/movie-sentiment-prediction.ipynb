{
 "cells": [
  {
   "cell_type": "markdown",
   "metadata": {},
   "source": [
    "# <h1 style='background:#CCCCCC; border:0; color:black'><center><span style=\"color: royalblue;\"><span style=\"color: royalblue;\">Movie Sentiment Analysis</span></span></center></h1> "
   ]
  },
  {
   "cell_type": "code",
   "execution_count": 40,
   "metadata": {},
   "outputs": [],
   "source": [
    "import pandas as pd\n",
    "import bs4\n",
    "import re\n",
    "from nltk.corpus import stopwords\n",
    "import warnings\n",
    "warnings.filterwarnings(\"ignore\")\n",
    "from sklearn.feature_extraction.text import CountVectorizer, TfidfTransformer\n",
    "import numpy as np\n",
    "from sklearn.ensemble import RandomForestClassifier\n",
    "from sklearn.naive_bayes import MultinomialNB\n",
    "from sklearn.model_selection import train_test_split\n",
    "from matplotlib import pyplot as plt\n",
    "from sklearn.metrics import roc_curve, auc\n",
    "from sklearn.metrics import confusion_matrix"
   ]
  },
  {
   "cell_type": "markdown",
   "metadata": {},
   "source": [
    "# <h1 style='background:#CCCCCC; border:0; color:black'><center><span style=\"color: royalblue;\"><span style=\"color: royalblue;\">Load the Data</span></span></center></h1> "
   ]
  },
  {
   "cell_type": "code",
   "execution_count": 41,
   "metadata": {},
   "outputs": [
    {
     "name": "stdout",
     "output_type": "stream",
     "text": [
      "this is the labled dataset\n",
      "         id  sentiment                                             review\n",
      "0  \"5814_8\"          1  \"With all this stuff going down at the moment ...\n",
      "1  \"2381_9\"          1  \"\\\"The Classic War of the Worlds\\\" by Timothy ...\n",
      "2  \"7759_3\"          0  \"The film starts with a manager (Nicholas Bell...\n",
      "3  \"3630_4\"          0  \"It must be assumed that those who praised thi...\n",
      "4  \"9495_8\"          1  \"Superbly trashy and wondrously unpretentious ...\n",
      "Shape of labled dataset : (25000, 3)\n"
     ]
    }
   ],
   "source": [
    "train_data = pd.read_csv(\"labeledTrainData.tsv.zip\", sep='\\t', quoting=3, header=0)\n",
    "print(\"this is the labled dataset\")\n",
    "print(train_data.head())\n",
    "print(\"Shape of labled dataset :\", train_data.shape)"
   ]
  },
  {
   "cell_type": "markdown",
   "metadata": {},
   "source": [
    "We will drop the columns that are not important for us"
   ]
  },
  {
   "cell_type": "code",
   "execution_count": 42,
   "metadata": {},
   "outputs": [
    {
     "data": {
      "text/html": [
       "<div>\n",
       "<style scoped>\n",
       "    .dataframe tbody tr th:only-of-type {\n",
       "        vertical-align: middle;\n",
       "    }\n",
       "\n",
       "    .dataframe tbody tr th {\n",
       "        vertical-align: top;\n",
       "    }\n",
       "\n",
       "    .dataframe thead th {\n",
       "        text-align: right;\n",
       "    }\n",
       "</style>\n",
       "<table border=\"1\" class=\"dataframe\">\n",
       "  <thead>\n",
       "    <tr style=\"text-align: right;\">\n",
       "      <th></th>\n",
       "      <th>sentiment</th>\n",
       "      <th>review</th>\n",
       "    </tr>\n",
       "  </thead>\n",
       "  <tbody>\n",
       "    <tr>\n",
       "      <th>0</th>\n",
       "      <td>1</td>\n",
       "      <td>\"With all this stuff going down at the moment ...</td>\n",
       "    </tr>\n",
       "    <tr>\n",
       "      <th>1</th>\n",
       "      <td>1</td>\n",
       "      <td>\"\\\"The Classic War of the Worlds\\\" by Timothy ...</td>\n",
       "    </tr>\n",
       "    <tr>\n",
       "      <th>2</th>\n",
       "      <td>0</td>\n",
       "      <td>\"The film starts with a manager (Nicholas Bell...</td>\n",
       "    </tr>\n",
       "    <tr>\n",
       "      <th>3</th>\n",
       "      <td>0</td>\n",
       "      <td>\"It must be assumed that those who praised thi...</td>\n",
       "    </tr>\n",
       "    <tr>\n",
       "      <th>4</th>\n",
       "      <td>1</td>\n",
       "      <td>\"Superbly trashy and wondrously unpretentious ...</td>\n",
       "    </tr>\n",
       "    <tr>\n",
       "      <th>...</th>\n",
       "      <td>...</td>\n",
       "      <td>...</td>\n",
       "    </tr>\n",
       "    <tr>\n",
       "      <th>24995</th>\n",
       "      <td>0</td>\n",
       "      <td>\"It seems like more consideration has gone int...</td>\n",
       "    </tr>\n",
       "    <tr>\n",
       "      <th>24996</th>\n",
       "      <td>0</td>\n",
       "      <td>\"I don't believe they made this film. Complete...</td>\n",
       "    </tr>\n",
       "    <tr>\n",
       "      <th>24997</th>\n",
       "      <td>0</td>\n",
       "      <td>\"Guy is a loser. Can't get girls, needs to bui...</td>\n",
       "    </tr>\n",
       "    <tr>\n",
       "      <th>24998</th>\n",
       "      <td>0</td>\n",
       "      <td>\"This 30 minute documentary Buñuel made in the...</td>\n",
       "    </tr>\n",
       "    <tr>\n",
       "      <th>24999</th>\n",
       "      <td>1</td>\n",
       "      <td>\"I saw this movie as a child and it broke my h...</td>\n",
       "    </tr>\n",
       "  </tbody>\n",
       "</table>\n",
       "<p>25000 rows × 2 columns</p>\n",
       "</div>"
      ],
      "text/plain": [
       "       sentiment                                             review\n",
       "0              1  \"With all this stuff going down at the moment ...\n",
       "1              1  \"\\\"The Classic War of the Worlds\\\" by Timothy ...\n",
       "2              0  \"The film starts with a manager (Nicholas Bell...\n",
       "3              0  \"It must be assumed that those who praised thi...\n",
       "4              1  \"Superbly trashy and wondrously unpretentious ...\n",
       "...          ...                                                ...\n",
       "24995          0  \"It seems like more consideration has gone int...\n",
       "24996          0  \"I don't believe they made this film. Complete...\n",
       "24997          0  \"Guy is a loser. Can't get girls, needs to bui...\n",
       "24998          0  \"This 30 minute documentary Buñuel made in the...\n",
       "24999          1  \"I saw this movie as a child and it broke my h...\n",
       "\n",
       "[25000 rows x 2 columns]"
      ]
     },
     "execution_count": 42,
     "metadata": {},
     "output_type": "execute_result"
    }
   ],
   "source": [
    "train_data.drop(['id'], axis=1)"
   ]
  },
  {
   "cell_type": "code",
   "execution_count": 43,
   "metadata": {},
   "outputs": [],
   "source": [
    "REVIEW = {0 : 'NEGATIVE', 1 : 'POSITIVE'}"
   ]
  },
  {
   "cell_type": "markdown",
   "metadata": {},
   "source": [
    "# <h1 style='background:#CCCCCC; border:0; color:black'><center><span style=\"color: royalblue;\"><span style=\"color: royalblue;\">Analyzing Data</span></span></center></h1> "
   ]
  },
  {
   "cell_type": "code",
   "execution_count": 44,
   "metadata": {},
   "outputs": [],
   "source": [
    "X_train, X_test, y_train, y_test = train_test_split(train_data.drop(columns=['sentiment', 'id']), train_data.sentiment, test_size=0.2, random_state=3)\n",
    "X_train = X_train.reset_index(drop=True)\n",
    "X_test = X_test.reset_index(drop=True)"
   ]
  },
  {
   "cell_type": "code",
   "execution_count": 45,
   "metadata": {},
   "outputs": [
    {
     "data": {
      "text/html": [
       "<div>\n",
       "<style scoped>\n",
       "    .dataframe tbody tr th:only-of-type {\n",
       "        vertical-align: middle;\n",
       "    }\n",
       "\n",
       "    .dataframe tbody tr th {\n",
       "        vertical-align: top;\n",
       "    }\n",
       "\n",
       "    .dataframe thead th {\n",
       "        text-align: right;\n",
       "    }\n",
       "</style>\n",
       "<table border=\"1\" class=\"dataframe\">\n",
       "  <thead>\n",
       "    <tr style=\"text-align: right;\">\n",
       "      <th></th>\n",
       "      <th>review</th>\n",
       "    </tr>\n",
       "  </thead>\n",
       "  <tbody>\n",
       "    <tr>\n",
       "      <th>0</th>\n",
       "      <td>\"as an actor I really like independent films b...</td>\n",
       "    </tr>\n",
       "    <tr>\n",
       "      <th>1</th>\n",
       "      <td>\"This is the first film of the Horrorfest I ha...</td>\n",
       "    </tr>\n",
       "    <tr>\n",
       "      <th>2</th>\n",
       "      <td>\"I'm embarrassed to be writing this review. I ...</td>\n",
       "    </tr>\n",
       "    <tr>\n",
       "      <th>3</th>\n",
       "      <td>\"The opening sequence alone is worth the cost ...</td>\n",
       "    </tr>\n",
       "    <tr>\n",
       "      <th>4</th>\n",
       "      <td>\"Unfortunately, the director Amos Guttman died...</td>\n",
       "    </tr>\n",
       "  </tbody>\n",
       "</table>\n",
       "</div>"
      ],
      "text/plain": [
       "                                              review\n",
       "0  \"as an actor I really like independent films b...\n",
       "1  \"This is the first film of the Horrorfest I ha...\n",
       "2  \"I'm embarrassed to be writing this review. I ...\n",
       "3  \"The opening sequence alone is worth the cost ...\n",
       "4  \"Unfortunately, the director Amos Guttman died..."
      ]
     },
     "execution_count": 45,
     "metadata": {},
     "output_type": "execute_result"
    }
   ],
   "source": [
    "X_train.head()"
   ]
  },
  {
   "cell_type": "code",
   "execution_count": 46,
   "metadata": {},
   "outputs": [
    {
     "data": {
      "text/html": [
       "<div>\n",
       "<style scoped>\n",
       "    .dataframe tbody tr th:only-of-type {\n",
       "        vertical-align: middle;\n",
       "    }\n",
       "\n",
       "    .dataframe tbody tr th {\n",
       "        vertical-align: top;\n",
       "    }\n",
       "\n",
       "    .dataframe thead th {\n",
       "        text-align: right;\n",
       "    }\n",
       "</style>\n",
       "<table border=\"1\" class=\"dataframe\">\n",
       "  <thead>\n",
       "    <tr style=\"text-align: right;\">\n",
       "      <th></th>\n",
       "      <th>review</th>\n",
       "    </tr>\n",
       "  </thead>\n",
       "  <tbody>\n",
       "    <tr>\n",
       "      <th>0</th>\n",
       "      <td>\"If I could give it less that 1 I would. Do no...</td>\n",
       "    </tr>\n",
       "    <tr>\n",
       "      <th>1</th>\n",
       "      <td>\"To be honest i had heard this was pretty bad ...</td>\n",
       "    </tr>\n",
       "    <tr>\n",
       "      <th>2</th>\n",
       "      <td>\"I guess there are some out there that remembe...</td>\n",
       "    </tr>\n",
       "    <tr>\n",
       "      <th>3</th>\n",
       "      <td>\"Uwe Boll has done the impossible: create a ga...</td>\n",
       "    </tr>\n",
       "    <tr>\n",
       "      <th>4</th>\n",
       "      <td>\"What a surprise; two outstanding performances...</td>\n",
       "    </tr>\n",
       "  </tbody>\n",
       "</table>\n",
       "</div>"
      ],
      "text/plain": [
       "                                              review\n",
       "0  \"If I could give it less that 1 I would. Do no...\n",
       "1  \"To be honest i had heard this was pretty bad ...\n",
       "2  \"I guess there are some out there that remembe...\n",
       "3  \"Uwe Boll has done the impossible: create a ga...\n",
       "4  \"What a surprise; two outstanding performances..."
      ]
     },
     "execution_count": 46,
     "metadata": {},
     "output_type": "execute_result"
    }
   ],
   "source": [
    "X_test.head()"
   ]
  },
  {
   "cell_type": "markdown",
   "metadata": {},
   "source": [
    "# <h1 style='background:#CCCCCC; border:0; color:black'><center><span style=\"color: royalblue;\"><span style=\"color: royalblue;\">Preprocessing And Cleaning</span></span></center></h1> "
   ]
  },
  {
   "cell_type": "code",
   "execution_count": 47,
   "metadata": {},
   "outputs": [],
   "source": [
    "def review_to_words(review, string = True, remove_stopwords=True):\n",
    "    review_text = bs4.BeautifulSoup(review).get_text()\n",
    "    review_text = re.sub(r\"[^A-Za-z]\", \" \", review_text)\n",
    "    \n",
    "    words = review_text.lower().split()\n",
    "    if remove_stopwords:\n",
    "        stops_wrds = set(stopwords.words(\"english\"))\n",
    "        words = [w for w in words if not w in stops_wrds]\n",
    "    if string:\n",
    "        return \" \".join(words)\n",
    "    else:\n",
    "        return words"
   ]
  },
  {
   "cell_type": "code",
   "execution_count": 48,
   "metadata": {},
   "outputs": [],
   "source": [
    "clean_trainData_reviews = X_train['review'].apply(review_to_words)\n",
    "clean_testData_reviews = X_test['review'].apply(review_to_words)"
   ]
  },
  {
   "cell_type": "code",
   "execution_count": 49,
   "metadata": {},
   "outputs": [
    {
     "data": {
      "text/plain": [
       "0    actor really like independent films one amateu...\n",
       "1    first film horrorfest watched im almost thinki...\n",
       "Name: review, dtype: object"
      ]
     },
     "execution_count": 49,
     "metadata": {},
     "output_type": "execute_result"
    }
   ],
   "source": [
    "clean_trainData_reviews[0:2]"
   ]
  },
  {
   "cell_type": "code",
   "execution_count": 50,
   "metadata": {},
   "outputs": [
    {
     "data": {
      "text/plain": [
       "0    could give less would bother rent someone give...\n",
       "1    honest heard pretty bad decided watch never on...\n",
       "Name: review, dtype: object"
      ]
     },
     "execution_count": 50,
     "metadata": {},
     "output_type": "execute_result"
    }
   ],
   "source": [
    "clean_testData_reviews[0:2]"
   ]
  },
  {
   "cell_type": "code",
   "execution_count": 51,
   "metadata": {},
   "outputs": [],
   "source": [
    "vectorizer = CountVectorizer(analyzer=\"word\", tokenizer=None,stop_words=None,preprocessor=None, max_features=15000)\n",
    "\n",
    "train_features = vectorizer.fit_transform(clean_trainData_reviews).toarray()\n",
    "test_features = vectorizer.transform(clean_testData_reviews).toarray()"
   ]
  },
  {
   "cell_type": "code",
   "execution_count": 52,
   "metadata": {},
   "outputs": [
    {
     "name": "stdout",
     "output_type": "stream",
     "text": [
      "['aag', 'aames', 'aaron', 'ab', 'abandon', 'abandoned', 'abandoning', 'abandons', 'abbey', 'abbot', 'abbott', 'abby', 'abc', 'abducted', 'abe', 'abetted', 'abhay', 'abhorrent', 'abiding', 'abigail']\n"
     ]
    }
   ],
   "source": [
    "vocab = vectorizer.get_feature_names()\n",
    "print(vocab[0:20])"
   ]
  },
  {
   "cell_type": "markdown",
   "metadata": {},
   "source": [
    "# <h1 style='background:#CCCCCC; border:0; color:black'><center><span style=\"color: royalblue;\"><span style=\"color: royalblue;\">Modelling</span></span></center></h1> "
   ]
  },
  {
   "cell_type": "markdown",
   "metadata": {},
   "source": [
    "We will make function for predicting and analyzing our results"
   ]
  },
  {
   "cell_type": "code",
   "execution_count": 53,
   "metadata": {},
   "outputs": [],
   "source": [
    "def get_predictions(test_feat, train_feat, y_test, y_train, model = None, title : str = None):\n",
    "    model.fit(train_feat, y_train)\n",
    "    predictions = model.predict(test_feat)\n",
    "    preds_prob = model.predict_proba(test_feat)\n",
    "    fpr, tpr, _ = roc_curve(y_test, predictions)\n",
    "    roc_auc = auc(fpr, tpr)\n",
    "    print('AUC:', roc_auc)\n",
    "    print(\"confusion matrix :\\n\", confusion_matrix(y_test, predictions))\n",
    "    plt.figure(figsize=(9,7), dpi=80)\n",
    "    plt.plot(fpr, tpr)\n",
    "    plt.title(title)\n",
    "    plt.plot([0, 1], [0, 1], color='navy', linestyle='--')\n",
    "    plt.xlabel('False Positive Rate')\n",
    "    plt.ylabel('True Positive Rate')\n",
    "    plt.show()\n",
    "    return predictions, preds_prob, model"
   ]
  },
  {
   "cell_type": "markdown",
   "metadata": {},
   "source": [
    "Accuracy before Tf-Idf Term frequency - Inverse document frequency"
   ]
  },
  {
   "cell_type": "code",
   "execution_count": 54,
   "metadata": {},
   "outputs": [
    {
     "name": "stdout",
     "output_type": "stream",
     "text": [
      "AUC: 0.848001131572324\n",
      "confusion matrix :\n",
      " [[2106  377]\n",
      " [ 383 2134]]\n"
     ]
    },
    {
     "data": {
      "image/png": "[encoded data removed]",
      "text/plain": [
       "<Figure size 720x560 with 1 Axes>"
      ]
     },
     "metadata": {
      "needs_background": "light"
     },
     "output_type": "display_data"
    }
   ],
   "source": [
    "rf_predictions, rf_preds_probs, rf_model = get_predictions(test_features, train_features, y_test, y_train, RandomForestClassifier(n_estimators=100, random_state=34), \"Accuracy of random forest classifier\")"
   ]
  },
  {
   "cell_type": "code",
   "execution_count": 55,
   "metadata": {},
   "outputs": [
    {
     "name": "stdout",
     "output_type": "stream",
     "text": [
      "AUC: 0.8578954290846409\n",
      "confusion matrix :\n",
      " [[2165  318]\n",
      " [ 393 2124]]\n"
     ]
    },
    {
     "data": {
      "image/png": "[encoded data removed]",
      "text/plain": [
       "<Figure size 720x560 with 1 Axes>"
      ]
     },
     "metadata": {
      "needs_background": "light"
     },
     "output_type": "display_data"
    }
   ],
   "source": [
    "nb_predictions, nb_preds_probs, nb_model = get_predictions(test_features, train_features, y_test, y_train, MultinomialNB(), \"Accuracy of Naive biases\")"
   ]
  },
  {
   "cell_type": "markdown",
   "metadata": {},
   "source": [
    "### Tf-Idf"
   ]
  },
  {
   "cell_type": "code",
   "execution_count": 56,
   "metadata": {},
   "outputs": [],
   "source": [
    "tfidf_transformer = TfidfTransformer().fit(train_features)\n",
    "train_tfidf = tfidf_transformer.transform(train_features)\n",
    "\n",
    "test_tfidf = tfidf_transformer.transform(test_features)"
   ]
  },
  {
   "cell_type": "markdown",
   "metadata": {},
   "source": [
    "Accuracy after tf-idf term frequency - inverse document frequency"
   ]
  },
  {
   "cell_type": "code",
   "execution_count": 57,
   "metadata": {},
   "outputs": [
    {
     "name": "stdout",
     "output_type": "stream",
     "text": [
      "AUC: 0.8508747044463335\n",
      "confusion matrix :\n",
      " [[2140  343]\n",
      " [ 403 2114]]\n"
     ]
    },
    {
     "data": {
      "image/png": "[encoded data removed]",
      "text/plain": [
       "<Figure size 720x560 with 1 Axes>"
      ]
     },
     "metadata": {
      "needs_background": "light"
     },
     "output_type": "display_data"
    }
   ],
   "source": [
    "rf_predictions, rf_preds_probs, rf_model = get_predictions(test_tfidf, train_tfidf, y_test, y_train, RandomForestClassifier(n_estimators=100, random_state=34), \"Accuracy of random forest classifier\")"
   ]
  },
  {
   "cell_type": "code",
   "execution_count": 58,
   "metadata": {},
   "outputs": [
    {
     "name": "stdout",
     "output_type": "stream",
     "text": [
      "AUC: 0.8666523140029994\n",
      "confusion matrix :\n",
      " [[2171  312]\n",
      " [ 355 2162]]\n"
     ]
    },
    {
     "data": {
      "image/png": "[encoded data removed]",
      "text/plain": [
       "<Figure size 720x560 with 1 Axes>"
      ]
     },
     "metadata": {
      "needs_background": "light"
     },
     "output_type": "display_data"
    }
   ],
   "source": [
    "nb_predictions, nb_preds_probs, nb_model = get_predictions(test_tfidf, train_tfidf, y_test, y_train, MultinomialNB(), \"Accuracy of Naive biases\")"
   ]
  },
  {
   "cell_type": "markdown",
   "metadata": {},
   "source": [
    "We have 87% accuracy with naive bayes\n",
    "\n",
    "Which has considerd as best"
   ]
  },
  {
   "cell_type": "markdown",
   "metadata": {},
   "source": [
    "# <h1 style='background:#CCCCCC; border:0; color:black'><center><span style=\"color: royalblue;\"><span style=\"color: royalblue;\">Testing</span></span></center></h1> "
   ]
  },
  {
   "cell_type": "markdown",
   "metadata": {},
   "source": [
    "Let's test our model"
   ]
  },
  {
   "cell_type": "markdown",
   "metadata": {},
   "source": [
    "Run it with random values with the help of random module"
   ]
  },
  {
   "cell_type": "code",
   "execution_count": 59,
   "metadata": {},
   "outputs": [],
   "source": [
    "import random\n",
    "\n",
    "def check_random(num=5, modelPredictins=None, modelProbabilities=None):\n",
    "    try:    \n",
    "        for _ in range(5):\n",
    "            rand_num = random.randint(0, 4500)\n",
    "            print(f'predicted Sentiment : {REVIEW[modelPredictins[rand_num]]} | Actual Sentiment :, {REVIEW[list(y_test)[rand_num]]}')\n",
    "            print(f'NEGATIVE Probability : {round(float(modelProbabilities[rand_num][0])*100, 2)}, POSITIVE Probability {round(float(modelProbabilities[rand_num][1])*100, 2)}\\n')\n",
    "    except TypeError:\n",
    "        print(\"please give parameters carefully\")"
   ]
  },
  {
   "cell_type": "markdown",
   "metadata": {},
   "source": [
    "Check for RandomForestClassifier"
   ]
  },
  {
   "cell_type": "code",
   "execution_count": 60,
   "metadata": {},
   "outputs": [
    {
     "name": "stdout",
     "output_type": "stream",
     "text": [
      "predicted Sentiment : POSITIVE | Actual Sentiment :, POSITIVE\n",
      "NEGATIVE Probability : 13.0, POSITIVE Probability 87.0\n",
      "\n",
      "predicted Sentiment : POSITIVE | Actual Sentiment :, POSITIVE\n",
      "NEGATIVE Probability : 40.0, POSITIVE Probability 60.0\n",
      "\n",
      "predicted Sentiment : NEGATIVE | Actual Sentiment :, NEGATIVE\n",
      "NEGATIVE Probability : 64.0, POSITIVE Probability 36.0\n",
      "\n",
      "predicted Sentiment : POSITIVE | Actual Sentiment :, POSITIVE\n",
      "NEGATIVE Probability : 41.0, POSITIVE Probability 59.0\n",
      "\n",
      "predicted Sentiment : NEGATIVE | Actual Sentiment :, POSITIVE\n",
      "NEGATIVE Probability : 50.0, POSITIVE Probability 50.0\n",
      "\n"
     ]
    }
   ],
   "source": [
    "check_random(modelPredictins=rf_predictions, modelProbabilities=rf_preds_probs)"
   ]
  },
  {
   "cell_type": "markdown",
   "metadata": {},
   "source": [
    "Check for Naive bayes"
   ]
  },
  {
   "cell_type": "code",
   "execution_count": 61,
   "metadata": {},
   "outputs": [
    {
     "name": "stdout",
     "output_type": "stream",
     "text": [
      "predicted Sentiment : POSITIVE | Actual Sentiment :, POSITIVE\n",
      "NEGATIVE Probability : 15.25, POSITIVE Probability 84.75\n",
      "\n",
      "predicted Sentiment : POSITIVE | Actual Sentiment :, POSITIVE\n",
      "NEGATIVE Probability : 25.56, POSITIVE Probability 74.44\n",
      "\n",
      "predicted Sentiment : NEGATIVE | Actual Sentiment :, NEGATIVE\n",
      "NEGATIVE Probability : 75.91, POSITIVE Probability 24.09\n",
      "\n",
      "predicted Sentiment : NEGATIVE | Actual Sentiment :, POSITIVE\n",
      "NEGATIVE Probability : 53.49, POSITIVE Probability 46.51\n",
      "\n",
      "predicted Sentiment : POSITIVE | Actual Sentiment :, NEGATIVE\n",
      "NEGATIVE Probability : 18.71, POSITIVE Probability 81.29\n",
      "\n"
     ]
    }
   ],
   "source": [
    "check_random(modelPredictins=nb_predictions, modelProbabilities=nb_preds_probs)"
   ]
  },
  {
   "cell_type": "code",
   "execution_count": 62,
   "metadata": {},
   "outputs": [],
   "source": [
    "def plot_confidence(test_image_array, test_image_label, pred_test_labels, image_number):\n",
    "    axs = plt.figure(figsize=(6, 4))\n",
    "    \n",
    "    bar_label = REVIEW.values()\n",
    "    \n",
    "    print(test_image_array[image_number])\n",
    "    plt.title(REVIEW[list(test_image_label)[image_number]])\n",
    "    \n",
    "    plt.bar(bar_label, pred_test_labels[image_number], color='orange', alpha=0.7)\n",
    "    plt.grid()\n",
    "\n",
    "    plt.show()"
   ]
  },
  {
   "cell_type": "code",
   "execution_count": 63,
   "metadata": {},
   "outputs": [
    {
     "name": "stdout",
     "output_type": "stream",
     "text": [
      "\"If I could give it less that 1 I would. Do not bother to rent; if someone gives you the DVD burn it.<br /><br />This is horrible movie making. A total waste of even digital \\\"film\\\". I have seen better on Youtube made by 12 year old boys. Lommel claims to have written this, if that is the case he is a classic case of someone who is illiterate in two languages. The story line is none existent, the dialog is mainly screaming, the camera work is some sort of attempted arty flairs with nonsensical cutting of totally unrelated jumps to either industrial transportation scenes or some sort of odd angry young woman rift.<br /><br />I can usually follow a less than obvious plot or see the purpose in a \\\"creative\\\" film - I like David Lynch.<br /><br />This one is either so far beyond my limited powers of comprehension I missed it or it is totally pointless. I think this is a \\\"lets see if we can grab a title that will be coming out soon and do a weird rift on it and see if we can grab some of the bucks\\\" con job.<br /><br />I cannot see why Lionsgate even bothered with this. Totally worthless, it is so bad I will not rent any other by this same director.\"\n"
     ]
    },
    {
     "data": {
      "image/png": "[encoded data removed]",
      "text/plain": [
       "<Figure size 432x288 with 1 Axes>"
      ]
     },
     "metadata": {
      "needs_background": "light"
     },
     "output_type": "display_data"
    }
   ],
   "source": [
    "plot_confidence(X_test['review'], y_test, nb_preds_probs, 0)"
   ]
  },
  {
   "cell_type": "markdown",
   "metadata": {},
   "source": [
    "It's performing very well"
   ]
  },
  {
   "cell_type": "markdown",
   "metadata": {},
   "source": [
    "Save the model"
   ]
  },
  {
   "cell_type": "code",
   "execution_count": 64,
   "metadata": {},
   "outputs": [],
   "source": [
    "import pickle\n",
    "\n",
    "file = 'sentiment-prediction-model'\n",
    "# save the file\n",
    "save = pickle.dump(nb_model, open(file, 'wb'))"
   ]
  }
 ],
 "metadata": {
  "kernelspec": {
   "display_name": "Python 3.10.4 64-bit",
   "language": "python",
   "name": "python3"
  },
  "language_info": {
   "codemirror_mode": {
    "name": "ipython",
    "version": 3
   },
   "file_extension": ".py",
   "mimetype": "text/x-python",
   "name": "python",
   "nbconvert_exporter": "python",
   "pygments_lexer": "ipython3",
   "version": "3.10.4"
  },
  "orig_nbformat": 4,
  "vscode": {
   "interpreter": {
    "hash": "c3d1afe0d60513d76c8f677ca94a647414495a9c92f28d0fd1aa0b79db8c8975"
   }
  }
 },
 "nbformat": 4,
 "nbformat_minor": 2
}
